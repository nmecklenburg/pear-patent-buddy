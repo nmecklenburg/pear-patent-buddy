{
 "cells": [
  {
   "cell_type": "code",
   "execution_count": 1,
   "id": "ff750369-c2d0-4538-947a-91b8acc73db5",
   "metadata": {},
   "outputs": [
    {
     "data": {
      "text/plain": [
       "True"
      ]
     },
     "execution_count": 1,
     "metadata": {},
     "output_type": "execute_result"
    }
   ],
   "source": [
    "from dotenv import load_dotenv\n",
    "\n",
    "load_dotenv(\"../.env\")"
   ]
  },
  {
   "cell_type": "code",
   "execution_count": 72,
   "id": "b6cebf4e-2d83-4981-96ff-13b75f87bb05",
   "metadata": {},
   "outputs": [],
   "source": [
    "from functools import partial\n",
    "import re\n",
    "from selenium import webdriver\n",
    "from selenium.webdriver.chrome.options import Options\n",
    "from selenium.webdriver.common.by import By\n",
    "from selenium.webdriver.common.keys import Keys\n",
    "from selenium.webdriver.support import expected_conditions as EC\n",
    "from selenium.webdriver.support.ui import WebDriverWait\n",
    "from typing import Any\n",
    "\n",
    "log = print\n",
    "\n",
    "\n",
    "class GPatentEngine:\n",
    "    def __init__(self):\n",
    "        # Set up the Chrome WebDriver\n",
    "        options = Options()\n",
    "        options.add_argument(\"--headless=new\")\n",
    "        self.driver = webdriver.Chrome(options=options)\n",
    "        self.wait = WebDriverWait(driver=self.driver, timeout=10)\n",
    "\n",
    "    def _selenium_patent_search(self,\n",
    "                                destination,\n",
    "                                wait_fn,\n",
    "                                fetch_fn,\n",
    "                                process_fn):\n",
    "        self.driver.get(destination)\n",
    "        wait_fn()\n",
    "\n",
    "        patents = []\n",
    "\n",
    "        # Parse through search results as they load\n",
    "        previous_count = 0\n",
    "        while True:\n",
    "            # Get all currently loaded search result elements\n",
    "            results = fetch_fn()\n",
    "\n",
    "            # We're done? Exit loop\n",
    "            if len(results) == previous_count:\n",
    "                break\n",
    "\n",
    "            # Process newly loaded elements\n",
    "            for result in results[previous_count:]:\n",
    "                try:\n",
    "                    process_fn(result)\n",
    "                except Exception as e:\n",
    "                    log(f\"Encountered error when parsing patent results: {e}\")\n",
    "\n",
    "            previous_count = len(results)\n",
    "\n",
    "            # Scroll to bottom to trigger more results [optional]\n",
    "            self.driver.execute_script(\"window.scrollTo(0, document.body.scrollHeight);\")\n",
    "\n",
    "    def _patent_direct_search(self, query: str) -> list[str]:\n",
    "        target = \"https://patents.google.com/\"\n",
    "        \n",
    "        def _wait_for_search_box(driver, wait):\n",
    "            wait.until(EC.presence_of_element_located((By.NAME, \"q\")))\n",
    "            search_box = driver.find_element(By.NAME, \"q\")  # the input box uses name=\"q\"\n",
    "            # Execute the search\n",
    "            search_box.send_keys(query)\n",
    "            search_box.send_keys(Keys.RETURN)\n",
    "            # Wait for the first batch to load\n",
    "            wait.until(EC.presence_of_element_located((By.XPATH, \"//article[contains(@class, 'search-result-item')]/following::a[1]\")))\n",
    "\n",
    "        def _fetch_results(driver) -> list[Any]:\n",
    "            return driver.find_elements(By.XPATH, \"//state-modifier[contains(@class, 'search-result-item')]\")\n",
    "\n",
    "        patents = []\n",
    "        def _process_fn(result) -> None:\n",
    "            patents.append(result.get_attribute('data-result').split(\"/\")[1])\n",
    "\n",
    "        self._selenium_patent_search(destination=target,\n",
    "                                     wait_fn=partial(_wait_for_search_box, driver=self.driver, wait=self.wait),\n",
    "                                     fetch_fn=partial(_fetch_results, driver=self.driver),\n",
    "                                     process_fn=_process_fn)\n",
    "\n",
    "        return patents\n",
    "\n",
    "    def _patent_internet_search(self, query: str) -> list[str]:\n",
    "        target = \"https://www.duckduckgo.com/\"\n",
    "\n",
    "        def _wait_for_search_box(driver, wait):\n",
    "            wait.until(EC.presence_of_element_located((By.NAME, \"q\")))\n",
    "            search_box = driver.find_element(By.NAME, \"q\")  # the input box uses name=\"q\"\n",
    "            # Execute the search\n",
    "            search_box.send_keys(f\"{query} site:patents.google.com\")\n",
    "            search_box.send_keys(Keys.RETURN)\n",
    "            # Wait for the first batch to load\n",
    "            wait.until(EC.presence_of_element_located((By.XPATH, \"//article[@data-nrn='result']\")))\n",
    "\n",
    "        def _fetch_results(driver) -> list[Any]:\n",
    "            return driver.find_elements(By.XPATH, \"//article[@data-nrn='result']//a\")\n",
    "\n",
    "        patents = []\n",
    "        def _process_fn(result) -> None:\n",
    "            link_value = result.get_attribute(\"href\")\n",
    "            if link_value and link_value.startswith(\"https://patents.google.com\"):\n",
    "                patent = re.match(r\".*/patent/(.*)/.*\", link_value)\n",
    "                if patent and patent.group(1) is not None:\n",
    "                    patents.append(patent.group(1))\n",
    "\n",
    "        self._selenium_patent_search(destination=target,\n",
    "                                     wait_fn=partial(_wait_for_search_box, driver=self.driver, wait=self.wait),\n",
    "                                     fetch_fn=partial(_fetch_results, driver=self.driver),\n",
    "                                     process_fn=_process_fn)\n",
    "        return patents\n",
    "\n",
    "    def search(self, query: str) -> list[str]:\n",
    "        patents: set[str] = set()\n",
    "\n",
    "        for patent_candidate in self._patent_direct_search(query):\n",
    "            if patent_candidate not in patents:\n",
    "                patents.add(patent_candidate)\n",
    "        for patent_candidate in self._patent_internet_search(query):\n",
    "            if patent_candidate not in patents:\n",
    "                patents.add(patent_candidate)\n",
    "                \n",
    "        return list(patents)"
   ]
  },
  {
   "cell_type": "code",
   "execution_count": 73,
   "id": "f1b58ab6-085e-482c-86e7-a6ade69a4acd",
   "metadata": {},
   "outputs": [
    {
     "name": "stdout",
     "output_type": "stream",
     "text": [
      "['ES2592324B1', 'JP2598289B2', 'JP2025003953A', 'US9468565B2', 'KR102438451B1', 'JP1711666S', 'US20120037094A1', 'JP6131513B2', 'CN107047454B', 'JPH01215229A', 'US2882858A', 'CN103552788B', 'JP3138623U', 'JP1728611S', 'US9358191B2', 'JP2015112093A', 'CN201472694U', 'ES2592324A1', 'CN114126629B', 'US5934226A']\n"
     ]
    }
   ],
   "source": [
    "engine = GPatentEngine()\n",
    "try:\n",
    "    patents = engine.search(\"diaper for birds\")\n",
    "finally:\n",
    "    engine.driver.quit()\n",
    "\n",
    "print(patents)"
   ]
  },
  {
   "cell_type": "code",
   "execution_count": 7,
   "id": "1d35ec7b-81c0-43bb-9558-c2c330599264",
   "metadata": {},
   "outputs": [
    {
     "name": "stdout",
     "output_type": "stream",
     "text": [
      "[TextBlock(citations=None, text='Hello! How can I help you today?', type='text')]\n"
     ]
    }
   ],
   "source": [
    "import os\n",
    "from anthropic import Anthropic\n",
    "\n",
    "client = Anthropic(\n",
    "    api_key=os.environ.get(\"ANTHROPIC_API_KEY\"),  # This is the default and can be omitted\n",
    ")\n",
    "\n",
    "message = client.messages.create(\n",
    "    max_tokens=1024,\n",
    "    messages=[\n",
    "        {\n",
    "            \"role\": \"user\",\n",
    "            \"content\": \"Hello, Claude\",\n",
    "        }\n",
    "    ],\n",
    "    model=\"claude-3-5-sonnet-latest\",\n",
    ")\n",
    "print(message.content)"
   ]
  },
  {
   "cell_type": "code",
   "execution_count": null,
   "id": "c624288e-3e92-41b0-ad72-be797ad32a00",
   "metadata": {},
   "outputs": [],
   "source": []
  }
 ],
 "metadata": {
  "kernelspec": {
   "display_name": "Python 3 (ipykernel)",
   "language": "python",
   "name": "python3"
  },
  "language_info": {
   "codemirror_mode": {
    "name": "ipython",
    "version": 3
   },
   "file_extension": ".py",
   "mimetype": "text/x-python",
   "name": "python",
   "nbconvert_exporter": "python",
   "pygments_lexer": "ipython3",
   "version": "3.12.1"
  }
 },
 "nbformat": 4,
 "nbformat_minor": 5
}
